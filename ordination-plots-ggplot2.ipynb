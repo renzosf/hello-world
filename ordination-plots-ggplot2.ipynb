{
 "cells": [
  {
   "cell_type": "code",
   "execution_count": 1,
   "metadata": {
    "collapsed": false
   },
   "outputs": [
    {
     "name": "stderr",
     "output_type": "stream",
     "text": [
      "Installing package into ‘/home/kguidonimartins/R/x86_64-pc-linux-gnu-library/3.3’\n",
      "(as ‘lib’ is unspecified)\n",
      "Warning message:\n",
      "“package ‘packfor’ is not available (for R version 3.3.1)”Loading required package: vegan\n",
      "Loading required package: permute\n",
      "Warning message:\n",
      "“package ‘permute’ was built under R version 3.3.2”Loading required package: lattice\n",
      "This is vegan 2.4-1\n",
      "Loading required package: ggplot2\n",
      "Loading required package: ggrepel\n",
      "Loading required package: grid\n",
      "Loading required package: packfor\n",
      "packfor: R Package for Forward Selection (Canoco Manual p.49)\n",
      "version0.0-8\n"
     ]
    },
    {
     "data": {
      "text/html": [
       "<dl class=dl-horizontal>\n",
       "\t<dt>vegan</dt>\n",
       "\t\t<dd>TRUE</dd>\n",
       "\t<dt>ggplot2</dt>\n",
       "\t\t<dd>TRUE</dd>\n",
       "\t<dt>ggrepel</dt>\n",
       "\t\t<dd>TRUE</dd>\n",
       "\t<dt>grid</dt>\n",
       "\t\t<dd>TRUE</dd>\n",
       "\t<dt>packfor</dt>\n",
       "\t\t<dd>TRUE</dd>\n",
       "</dl>\n"
      ],
      "text/latex": [
       "\\begin{description*}\n",
       "\\item[vegan] TRUE\n",
       "\\item[ggplot2] TRUE\n",
       "\\item[ggrepel] TRUE\n",
       "\\item[grid] TRUE\n",
       "\\item[packfor] TRUE\n",
       "\\end{description*}\n"
      ],
      "text/markdown": [
       "vegan\n",
       ":   TRUEggplot2\n",
       ":   TRUEggrepel\n",
       ":   TRUEgrid\n",
       ":   TRUEpackfor\n",
       ":   TRUE\n",
       "\n"
      ],
      "text/plain": [
       "  vegan ggplot2 ggrepel    grid packfor \n",
       "   TRUE    TRUE    TRUE    TRUE    TRUE "
      ]
     },
     "metadata": {},
     "output_type": "display_data"
    }
   ],
   "source": [
    "# Enconding: ISO-8859-1\n",
    "# rm(list = ls())\n",
    "\n",
    "# Este um script para plotar ordenações (biplots ou triplots) usando os pacotes\n",
    "# ggplot2, ggrepel e grid. O objeto da ordenação será gerado pelo pacote vegan.\n",
    "# O script funcionará tanto para CCAs quanto para RDAs.\n",
    "#\n",
    "# O Gavin Simpson, um dos desenvolvedores do vegan, está trabalhando em um pacote\n",
    "# exclusivo para as ordenações: https://github.com/gavinsimpson/ggvegan\n",
    "\n",
    "# Este script teve como base a seguinte página: http://renatabrandt.github.io/EBC2015/PCA.html\n",
    "\n",
    "# Problemas com a transparência do ggplot2 no jupyter notebook\n",
    "\n",
    "install.packages(\"packfor\", repos = \"http://R-Forge.R-project.org\")\n",
    "\n",
    "ipak <- function(pkg){\n",
    "    new.pkg <- pkg[!(pkg %in% installed.packages()[, \"Package\"])]\n",
    "    if (length(new.pkg))\n",
    "        install.packages(new.pkg, dependencies = TRUE)\n",
    "    sapply(pkg, require, character.only = TRUE)\n",
    "}\n",
    "ipak(packages <- c(\"vegan\", \"ggplot2\", \"ggrepel\", \"grid\", \"packfor\"))"
   ]
  },
  {
   "cell_type": "code",
   "execution_count": 2,
   "metadata": {
    "collapsed": false
   },
   "outputs": [
    {
     "name": "stdout",
     "output_type": "stream",
     "text": [
      "Testing variable 1\n",
      "Testing variable 2\n",
      "Procedure stopped (adjR2thresh criteria) adjR2cum = 0.246740 with 2 variables (superior to 0.232172)\n"
     ]
    },
    {
     "data": {
      "image/png": "[encoded data removed]",
      "text/plain": [
       "plot without title"
      ]
     },
     "metadata": {},
     "output_type": "display_data"
    }
   ],
   "source": [
    "# dados de teste\n",
    "data(\"varespec\")\n",
    "data(\"varechem\")\n",
    "\n",
    "# entrada\n",
    "Y <- decostand(varespec, \"hellinger\")\n",
    "X <- decostand(varechem, \"standardize\")\n",
    "\n",
    "# rda com seleção\n",
    "rda1 <- rda(Y ~ ., X) # modelo saturado\n",
    "R2a.all <- RsquareAdj(rda1)$adj.r.squared\n",
    "env.sel <- forward.sel(Y, X, adjR2thresh = R2a.all)\n",
    "env.sign <-  sort(env.sel$order)\n",
    "env.red <- X[, c(env.sign)]\n",
    "rda2 <- rda(Y, env.red)\n",
    "\n",
    "# Plot para uma rápida visualização\n",
    "plot(rda2, type = \"t\")"
   ]
  },
  {
   "cell_type": "code",
   "execution_count": 3,
   "metadata": {
    "collapsed": false
   },
   "outputs": [
    {
     "data": {
      "text/html": [
       "0.2682"
      ],
      "text/latex": [
       "0.2682"
      ],
      "text/markdown": [
       "0.2682"
      ],
      "text/plain": [
       "[1] 0.2682"
      ]
     },
     "metadata": {},
     "output_type": "display_data"
    },
    {
     "data": {
      "text/html": [
       "0.04404"
      ],
      "text/latex": [
       "0.04404"
      ],
      "text/markdown": [
       "0.04404"
      ],
      "text/plain": [
       "[1] 0.04404"
      ]
     },
     "metadata": {},
     "output_type": "display_data"
    },
    {
     "data": {
      "text/html": [
       "<table>\n",
       "<thead><tr><th></th><th scope=col>RDA1</th><th scope=col>RDA2</th></tr></thead>\n",
       "<tbody>\n",
       "\t<tr><th scope=row>18</th><td>-0.12164706 </td><td>-0.138454672</td></tr>\n",
       "\t<tr><th scope=row>15</th><td>-0.09207393 </td><td>-0.027437043</td></tr>\n",
       "\t<tr><th scope=row>24</th><td>-0.08244642 </td><td> 0.118276432</td></tr>\n",
       "\t<tr><th scope=row>27</th><td>-0.31866227 </td><td> 0.102483205</td></tr>\n",
       "\t<tr><th scope=row>23</th><td>-0.21422732 </td><td>-0.037220586</td></tr>\n",
       "\t<tr><th scope=row>19</th><td>-0.07309611 </td><td>-0.004037112</td></tr>\n",
       "\t<tr><th scope=row>22</th><td>-0.20395125 </td><td>-0.065071999</td></tr>\n",
       "\t<tr><th scope=row>16</th><td>-0.06397259 </td><td>-0.117585651</td></tr>\n",
       "\t<tr><th scope=row>28</th><td>-0.35971648 </td><td> 0.176654911</td></tr>\n",
       "\t<tr><th scope=row>13</th><td> 0.03348894 </td><td> 0.550957391</td></tr>\n",
       "\t<tr><th scope=row>14</th><td>-0.05050650 </td><td>-0.080789145</td></tr>\n",
       "\t<tr><th scope=row>20</th><td>-0.09538928 </td><td> 0.094852741</td></tr>\n",
       "\t<tr><th scope=row>25</th><td>-0.18366706 </td><td>-0.125512612</td></tr>\n",
       "\t<tr><th scope=row>7</th><td> 0.38110448 </td><td>-0.121112621</td></tr>\n",
       "\t<tr><th scope=row>5</th><td> 0.04292005 </td><td>-0.403398131</td></tr>\n",
       "\t<tr><th scope=row>6</th><td> 0.19365974 </td><td>-0.270992978</td></tr>\n",
       "\t<tr><th scope=row>3</th><td> 0.40474166 </td><td>-0.127829076</td></tr>\n",
       "\t<tr><th scope=row>4</th><td> 0.35009055 </td><td> 0.381765731</td></tr>\n",
       "\t<tr><th scope=row>2</th><td> 0.26569681 </td><td> 0.134470667</td></tr>\n",
       "\t<tr><th scope=row>9</th><td> 0.19238782 </td><td>-0.036333011</td></tr>\n",
       "\t<tr><th scope=row>12</th><td> 0.01002820 </td><td>-0.124939499</td></tr>\n",
       "\t<tr><th scope=row>10</th><td>-0.04929891 </td><td> 0.162478799</td></tr>\n",
       "\t<tr><th scope=row>11</th><td> 0.10049707 </td><td> 0.197219972</td></tr>\n",
       "\t<tr><th scope=row>21</th><td>-0.06596012 </td><td>-0.238445714</td></tr>\n",
       "</tbody>\n",
       "</table>\n"
      ],
      "text/latex": [
       "\\begin{tabular}{r|ll}\n",
       "  & RDA1 & RDA2\\\\\n",
       "\\hline\n",
       "\t18 & -0.12164706  & -0.138454672\\\\\n",
       "\t15 & -0.09207393  & -0.027437043\\\\\n",
       "\t24 & -0.08244642  &  0.118276432\\\\\n",
       "\t27 & -0.31866227  &  0.102483205\\\\\n",
       "\t23 & -0.21422732  & -0.037220586\\\\\n",
       "\t19 & -0.07309611  & -0.004037112\\\\\n",
       "\t22 & -0.20395125  & -0.065071999\\\\\n",
       "\t16 & -0.06397259  & -0.117585651\\\\\n",
       "\t28 & -0.35971648  &  0.176654911\\\\\n",
       "\t13 &  0.03348894  &  0.550957391\\\\\n",
       "\t14 & -0.05050650  & -0.080789145\\\\\n",
       "\t20 & -0.09538928  &  0.094852741\\\\\n",
       "\t25 & -0.18366706  & -0.125512612\\\\\n",
       "\t7 &  0.38110448  & -0.121112621\\\\\n",
       "\t5 &  0.04292005  & -0.403398131\\\\\n",
       "\t6 &  0.19365974  & -0.270992978\\\\\n",
       "\t3 &  0.40474166  & -0.127829076\\\\\n",
       "\t4 &  0.35009055  &  0.381765731\\\\\n",
       "\t2 &  0.26569681  &  0.134470667\\\\\n",
       "\t9 &  0.19238782  & -0.036333011\\\\\n",
       "\t12 &  0.01002820  & -0.124939499\\\\\n",
       "\t10 & -0.04929891  &  0.162478799\\\\\n",
       "\t11 &  0.10049707  &  0.197219972\\\\\n",
       "\t21 & -0.06596012  & -0.238445714\\\\\n",
       "\\end{tabular}\n"
      ],
      "text/markdown": [
       "\n",
       "| <!--/--> | RDA1 | RDA2 | \n",
       "|---|---|---|---|---|---|---|---|---|---|---|---|---|---|---|---|---|---|---|---|---|---|---|---|\n",
       "| 18 | -0.12164706  | -0.138454672 | \n",
       "| 15 | -0.09207393  | -0.027437043 | \n",
       "| 24 | -0.08244642  |  0.118276432 | \n",
       "| 27 | -0.31866227  |  0.102483205 | \n",
       "| 23 | -0.21422732  | -0.037220586 | \n",
       "| 19 | -0.07309611  | -0.004037112 | \n",
       "| 22 | -0.20395125  | -0.065071999 | \n",
       "| 16 | -0.06397259  | -0.117585651 | \n",
       "| 28 | -0.35971648  |  0.176654911 | \n",
       "| 13 |  0.03348894  |  0.550957391 | \n",
       "| 14 | -0.05050650  | -0.080789145 | \n",
       "| 20 | -0.09538928  |  0.094852741 | \n",
       "| 25 | -0.18366706  | -0.125512612 | \n",
       "| 7 |  0.38110448  | -0.121112621 | \n",
       "| 5 |  0.04292005  | -0.403398131 | \n",
       "| 6 |  0.19365974  | -0.270992978 | \n",
       "| 3 |  0.40474166  | -0.127829076 | \n",
       "| 4 |  0.35009055  |  0.381765731 | \n",
       "| 2 |  0.26569681  |  0.134470667 | \n",
       "| 9 |  0.19238782  | -0.036333011 | \n",
       "| 12 |  0.01002820  | -0.124939499 | \n",
       "| 10 | -0.04929891  |  0.162478799 | \n",
       "| 11 |  0.10049707  |  0.197219972 | \n",
       "| 21 | -0.06596012  | -0.238445714 | \n",
       "\n",
       "\n"
      ],
      "text/plain": [
       "   RDA1        RDA2        \n",
       "18 -0.12164706 -0.138454672\n",
       "15 -0.09207393 -0.027437043\n",
       "24 -0.08244642  0.118276432\n",
       "27 -0.31866227  0.102483205\n",
       "23 -0.21422732 -0.037220586\n",
       "19 -0.07309611 -0.004037112\n",
       "22 -0.20395125 -0.065071999\n",
       "16 -0.06397259 -0.117585651\n",
       "28 -0.35971648  0.176654911\n",
       "13  0.03348894  0.550957391\n",
       "14 -0.05050650 -0.080789145\n",
       "20 -0.09538928  0.094852741\n",
       "25 -0.18366706 -0.125512612\n",
       "7   0.38110448 -0.121112621\n",
       "5   0.04292005 -0.403398131\n",
       "6   0.19365974 -0.270992978\n",
       "3   0.40474166 -0.127829076\n",
       "4   0.35009055  0.381765731\n",
       "2   0.26569681  0.134470667\n",
       "9   0.19238782 -0.036333011\n",
       "12  0.01002820 -0.124939499\n",
       "10 -0.04929891  0.162478799\n",
       "11  0.10049707  0.197219972\n",
       "21 -0.06596012 -0.238445714"
      ]
     },
     "metadata": {},
     "output_type": "display_data"
    },
    {
     "data": {
      "text/html": [
       "<table>\n",
       "<thead><tr><th></th><th scope=col>RDA1</th><th scope=col>RDA2</th></tr></thead>\n",
       "<tbody>\n",
       "\t<tr><th scope=row>Callvulg</th><td> 0.0213821439</td><td> 0.487565100 </td></tr>\n",
       "\t<tr><th scope=row>Empenigr</th><td>-0.1028800932</td><td>-0.205699722 </td></tr>\n",
       "\t<tr><th scope=row>Rhodtome</th><td>-0.0673825328</td><td>-0.028007275 </td></tr>\n",
       "\t<tr><th scope=row>Vaccmyrt</th><td>-0.2057010800</td><td>-0.021884289 </td></tr>\n",
       "\t<tr><th scope=row>Vaccviti</th><td>-0.1369371380</td><td>-0.143735767 </td></tr>\n",
       "\t<tr><th scope=row>Pinusylv</th><td>-0.0054819703</td><td> 0.015666269 </td></tr>\n",
       "\t<tr><th scope=row>Descflex</th><td>-0.0589698872</td><td> 0.013558573 </td></tr>\n",
       "\t<tr><th scope=row>Betupube</th><td>-0.0058293172</td><td>-0.024154966 </td></tr>\n",
       "\t<tr><th scope=row>Vacculig</th><td> 0.0413330534</td><td>-0.078209765 </td></tr>\n",
       "\t<tr><th scope=row>Diphcomp</th><td> 0.0223808702</td><td>-0.044046188 </td></tr>\n",
       "\t<tr><th scope=row>Dicrsp</th><td>-0.1066372036</td><td> 0.008759356 </td></tr>\n",
       "\t<tr><th scope=row>Dicrfusc</th><td>-0.2092436681</td><td>-0.200159292 </td></tr>\n",
       "\t<tr><th scope=row>Dicrpoly</th><td>-0.0211108327</td><td>-0.026478254 </td></tr>\n",
       "\t<tr><th scope=row>Hylosple</th><td>-0.1320600643</td><td> 0.145808513 </td></tr>\n",
       "\t<tr><th scope=row>Pleuschr</th><td>-0.6006629905</td><td> 0.439280900 </td></tr>\n",
       "\t<tr><th scope=row>Polypili</th><td>-0.0005957191</td><td>-0.020928699 </td></tr>\n",
       "\t<tr><th scope=row>Polyjuni</th><td>-0.0471208513</td><td>-0.100722915 </td></tr>\n",
       "\t<tr><th scope=row>Polycomm</th><td>-0.0164163583</td><td>-0.024344171 </td></tr>\n",
       "\t<tr><th scope=row>Pohlnuta</th><td>-0.0127706828</td><td> 0.020073012 </td></tr>\n",
       "\t<tr><th scope=row>Ptilcili</th><td>-0.0378422309</td><td>-0.093164435 </td></tr>\n",
       "\t<tr><th scope=row>Barbhatc</th><td>-0.0153140042</td><td>-0.041235613 </td></tr>\n",
       "\t<tr><th scope=row>Cladarbu</th><td> 0.1821199819</td><td>-0.193883848 </td></tr>\n",
       "\t<tr><th scope=row>Cladrang</th><td> 0.3543591769</td><td>-0.220865518 </td></tr>\n",
       "\t<tr><th scope=row>Cladstel</th><td> 0.5506037292</td><td> 0.509298512 </td></tr>\n",
       "\t<tr><th scope=row>Cladunci</th><td>-0.0349403083</td><td>-0.002221616 </td></tr>\n",
       "\t<tr><th scope=row>Cladcocc</th><td> 0.0076922685</td><td>-0.011888027 </td></tr>\n",
       "\t<tr><th scope=row>Cladcorn</th><td>-0.0152121103</td><td>-0.040729356 </td></tr>\n",
       "\t<tr><th scope=row>Cladgrac</th><td>-0.0016897124</td><td>-0.031307493 </td></tr>\n",
       "\t<tr><th scope=row>Cladfimb</th><td>-0.0038474779</td><td>-0.039520267 </td></tr>\n",
       "\t<tr><th scope=row>Cladcris</th><td>-0.0143379259</td><td> 0.002346151 </td></tr>\n",
       "\t<tr><th scope=row>Cladchlo</th><td> 0.0107469341</td><td>-0.007216347 </td></tr>\n",
       "\t<tr><th scope=row>Cladbotr</th><td>-0.0135743085</td><td> 0.014145076 </td></tr>\n",
       "\t<tr><th scope=row>Cladamau</th><td> 0.0026057445</td><td>-0.022158674 </td></tr>\n",
       "\t<tr><th scope=row>Cladsp</th><td> 0.0048870773</td><td> 0.023086112 </td></tr>\n",
       "\t<tr><th scope=row>Cetreric</th><td> 0.0177665733</td><td> 0.014674723 </td></tr>\n",
       "\t<tr><th scope=row>Cetrisla</th><td> 0.0002285120</td><td> 0.010089368 </td></tr>\n",
       "\t<tr><th scope=row>Flavniva</th><td> 0.1095236596</td><td> 0.148943935 </td></tr>\n",
       "\t<tr><th scope=row>Nepharct</th><td>-0.0089063875</td><td>-0.064297056 </td></tr>\n",
       "\t<tr><th scope=row>Stersp</th><td> 0.0335615997</td><td>-0.175275819 </td></tr>\n",
       "\t<tr><th scope=row>Peltapht</th><td>-0.0147309544</td><td> 0.019211462 </td></tr>\n",
       "\t<tr><th scope=row>Icmaeric</th><td> 0.0035316248</td><td>-0.032476113 </td></tr>\n",
       "\t<tr><th scope=row>Cladcerv</th><td> 0.0066924224</td><td> 0.015749643 </td></tr>\n",
       "\t<tr><th scope=row>Claddefo</th><td>-0.0405470078</td><td>-0.032788412 </td></tr>\n",
       "\t<tr><th scope=row>Cladphyl</th><td> 0.0066272660</td><td> 0.021368369 </td></tr>\n",
       "</tbody>\n",
       "</table>\n"
      ],
      "text/latex": [
       "\\begin{tabular}{r|ll}\n",
       "  & RDA1 & RDA2\\\\\n",
       "\\hline\n",
       "\tCallvulg &  0.0213821439 &  0.487565100 \\\\\n",
       "\tEmpenigr & -0.1028800932 & -0.205699722 \\\\\n",
       "\tRhodtome & -0.0673825328 & -0.028007275 \\\\\n",
       "\tVaccmyrt & -0.2057010800 & -0.021884289 \\\\\n",
       "\tVaccviti & -0.1369371380 & -0.143735767 \\\\\n",
       "\tPinusylv & -0.0054819703 &  0.015666269 \\\\\n",
       "\tDescflex & -0.0589698872 &  0.013558573 \\\\\n",
       "\tBetupube & -0.0058293172 & -0.024154966 \\\\\n",
       "\tVacculig &  0.0413330534 & -0.078209765 \\\\\n",
       "\tDiphcomp &  0.0223808702 & -0.044046188 \\\\\n",
       "\tDicrsp & -0.1066372036 &  0.008759356 \\\\\n",
       "\tDicrfusc & -0.2092436681 & -0.200159292 \\\\\n",
       "\tDicrpoly & -0.0211108327 & -0.026478254 \\\\\n",
       "\tHylosple & -0.1320600643 &  0.145808513 \\\\\n",
       "\tPleuschr & -0.6006629905 &  0.439280900 \\\\\n",
       "\tPolypili & -0.0005957191 & -0.020928699 \\\\\n",
       "\tPolyjuni & -0.0471208513 & -0.100722915 \\\\\n",
       "\tPolycomm & -0.0164163583 & -0.024344171 \\\\\n",
       "\tPohlnuta & -0.0127706828 &  0.020073012 \\\\\n",
       "\tPtilcili & -0.0378422309 & -0.093164435 \\\\\n",
       "\tBarbhatc & -0.0153140042 & -0.041235613 \\\\\n",
       "\tCladarbu &  0.1821199819 & -0.193883848 \\\\\n",
       "\tCladrang &  0.3543591769 & -0.220865518 \\\\\n",
       "\tCladstel &  0.5506037292 &  0.509298512 \\\\\n",
       "\tCladunci & -0.0349403083 & -0.002221616 \\\\\n",
       "\tCladcocc &  0.0076922685 & -0.011888027 \\\\\n",
       "\tCladcorn & -0.0152121103 & -0.040729356 \\\\\n",
       "\tCladgrac & -0.0016897124 & -0.031307493 \\\\\n",
       "\tCladfimb & -0.0038474779 & -0.039520267 \\\\\n",
       "\tCladcris & -0.0143379259 &  0.002346151 \\\\\n",
       "\tCladchlo &  0.0107469341 & -0.007216347 \\\\\n",
       "\tCladbotr & -0.0135743085 &  0.014145076 \\\\\n",
       "\tCladamau &  0.0026057445 & -0.022158674 \\\\\n",
       "\tCladsp &  0.0048870773 &  0.023086112 \\\\\n",
       "\tCetreric &  0.0177665733 &  0.014674723 \\\\\n",
       "\tCetrisla &  0.0002285120 &  0.010089368 \\\\\n",
       "\tFlavniva &  0.1095236596 &  0.148943935 \\\\\n",
       "\tNepharct & -0.0089063875 & -0.064297056 \\\\\n",
       "\tStersp &  0.0335615997 & -0.175275819 \\\\\n",
       "\tPeltapht & -0.0147309544 &  0.019211462 \\\\\n",
       "\tIcmaeric &  0.0035316248 & -0.032476113 \\\\\n",
       "\tCladcerv &  0.0066924224 &  0.015749643 \\\\\n",
       "\tCladdefo & -0.0405470078 & -0.032788412 \\\\\n",
       "\tCladphyl &  0.0066272660 &  0.021368369 \\\\\n",
       "\\end{tabular}\n"
      ],
      "text/markdown": [
       "\n",
       "| <!--/--> | RDA1 | RDA2 | \n",
       "|---|---|---|---|---|---|---|---|---|---|---|---|---|---|---|---|---|---|---|---|---|---|---|---|---|---|---|---|---|---|---|---|---|---|---|---|---|---|---|---|---|---|---|---|\n",
       "| Callvulg |  0.0213821439 |  0.487565100  | \n",
       "| Empenigr | -0.1028800932 | -0.205699722  | \n",
       "| Rhodtome | -0.0673825328 | -0.028007275  | \n",
       "| Vaccmyrt | -0.2057010800 | -0.021884289  | \n",
       "| Vaccviti | -0.1369371380 | -0.143735767  | \n",
       "| Pinusylv | -0.0054819703 |  0.015666269  | \n",
       "| Descflex | -0.0589698872 |  0.013558573  | \n",
       "| Betupube | -0.0058293172 | -0.024154966  | \n",
       "| Vacculig |  0.0413330534 | -0.078209765  | \n",
       "| Diphcomp |  0.0223808702 | -0.044046188  | \n",
       "| Dicrsp | -0.1066372036 |  0.008759356  | \n",
       "| Dicrfusc | -0.2092436681 | -0.200159292  | \n",
       "| Dicrpoly | -0.0211108327 | -0.026478254  | \n",
       "| Hylosple | -0.1320600643 |  0.145808513  | \n",
       "| Pleuschr | -0.6006629905 |  0.439280900  | \n",
       "| Polypili | -0.0005957191 | -0.020928699  | \n",
       "| Polyjuni | -0.0471208513 | -0.100722915  | \n",
       "| Polycomm | -0.0164163583 | -0.024344171  | \n",
       "| Pohlnuta | -0.0127706828 |  0.020073012  | \n",
       "| Ptilcili | -0.0378422309 | -0.093164435  | \n",
       "| Barbhatc | -0.0153140042 | -0.041235613  | \n",
       "| Cladarbu |  0.1821199819 | -0.193883848  | \n",
       "| Cladrang |  0.3543591769 | -0.220865518  | \n",
       "| Cladstel |  0.5506037292 |  0.509298512  | \n",
       "| Cladunci | -0.0349403083 | -0.002221616  | \n",
       "| Cladcocc |  0.0076922685 | -0.011888027  | \n",
       "| Cladcorn | -0.0152121103 | -0.040729356  | \n",
       "| Cladgrac | -0.0016897124 | -0.031307493  | \n",
       "| Cladfimb | -0.0038474779 | -0.039520267  | \n",
       "| Cladcris | -0.0143379259 |  0.002346151  | \n",
       "| Cladchlo |  0.0107469341 | -0.007216347  | \n",
       "| Cladbotr | -0.0135743085 |  0.014145076  | \n",
       "| Cladamau |  0.0026057445 | -0.022158674  | \n",
       "| Cladsp |  0.0048870773 |  0.023086112  | \n",
       "| Cetreric |  0.0177665733 |  0.014674723  | \n",
       "| Cetrisla |  0.0002285120 |  0.010089368  | \n",
       "| Flavniva |  0.1095236596 |  0.148943935  | \n",
       "| Nepharct | -0.0089063875 | -0.064297056  | \n",
       "| Stersp |  0.0335615997 | -0.175275819  | \n",
       "| Peltapht | -0.0147309544 |  0.019211462  | \n",
       "| Icmaeric |  0.0035316248 | -0.032476113  | \n",
       "| Cladcerv |  0.0066924224 |  0.015749643  | \n",
       "| Claddefo | -0.0405470078 | -0.032788412  | \n",
       "| Cladphyl |  0.0066272660 |  0.021368369  | \n",
       "\n",
       "\n"
      ],
      "text/plain": [
       "         RDA1          RDA2        \n",
       "Callvulg  0.0213821439  0.487565100\n",
       "Empenigr -0.1028800932 -0.205699722\n",
       "Rhodtome -0.0673825328 -0.028007275\n",
       "Vaccmyrt -0.2057010800 -0.021884289\n",
       "Vaccviti -0.1369371380 -0.143735767\n",
       "Pinusylv -0.0054819703  0.015666269\n",
       "Descflex -0.0589698872  0.013558573\n",
       "Betupube -0.0058293172 -0.024154966\n",
       "Vacculig  0.0413330534 -0.078209765\n",
       "Diphcomp  0.0223808702 -0.044046188\n",
       "Dicrsp   -0.1066372036  0.008759356\n",
       "Dicrfusc -0.2092436681 -0.200159292\n",
       "Dicrpoly -0.0211108327 -0.026478254\n",
       "Hylosple -0.1320600643  0.145808513\n",
       "Pleuschr -0.6006629905  0.439280900\n",
       "Polypili -0.0005957191 -0.020928699\n",
       "Polyjuni -0.0471208513 -0.100722915\n",
       "Polycomm -0.0164163583 -0.024344171\n",
       "Pohlnuta -0.0127706828  0.020073012\n",
       "Ptilcili -0.0378422309 -0.093164435\n",
       "Barbhatc -0.0153140042 -0.041235613\n",
       "Cladarbu  0.1821199819 -0.193883848\n",
       "Cladrang  0.3543591769 -0.220865518\n",
       "Cladstel  0.5506037292  0.509298512\n",
       "Cladunci -0.0349403083 -0.002221616\n",
       "Cladcocc  0.0076922685 -0.011888027\n",
       "Cladcorn -0.0152121103 -0.040729356\n",
       "Cladgrac -0.0016897124 -0.031307493\n",
       "Cladfimb -0.0038474779 -0.039520267\n",
       "Cladcris -0.0143379259  0.002346151\n",
       "Cladchlo  0.0107469341 -0.007216347\n",
       "Cladbotr -0.0135743085  0.014145076\n",
       "Cladamau  0.0026057445 -0.022158674\n",
       "Cladsp    0.0048870773  0.023086112\n",
       "Cetreric  0.0177665733  0.014674723\n",
       "Cetrisla  0.0002285120  0.010089368\n",
       "Flavniva  0.1095236596  0.148943935\n",
       "Nepharct -0.0089063875 -0.064297056\n",
       "Stersp    0.0335615997 -0.175275819\n",
       "Peltapht -0.0147309544  0.019211462\n",
       "Icmaeric  0.0035316248 -0.032476113\n",
       "Cladcerv  0.0066924224  0.015749643\n",
       "Claddefo -0.0405470078 -0.032788412\n",
       "Cladphyl  0.0066272660  0.021368369"
      ]
     },
     "metadata": {},
     "output_type": "display_data"
    },
    {
     "data": {
      "text/html": [
       "<table>\n",
       "<thead><tr><th></th><th scope=col>RDA1</th><th scope=col>RDA2</th></tr></thead>\n",
       "<tbody>\n",
       "\t<tr><th scope=row>K</th><td>-0.4227100</td><td>0.9062650 </td></tr>\n",
       "\t<tr><th scope=row>Al</th><td> 0.8494685</td><td>0.5276393 </td></tr>\n",
       "</tbody>\n",
       "</table>\n"
      ],
      "text/latex": [
       "\\begin{tabular}{r|ll}\n",
       "  & RDA1 & RDA2\\\\\n",
       "\\hline\n",
       "\tK & -0.4227100 & 0.9062650 \\\\\n",
       "\tAl &  0.8494685 & 0.5276393 \\\\\n",
       "\\end{tabular}\n"
      ],
      "text/markdown": [
       "\n",
       "| <!--/--> | RDA1 | RDA2 | \n",
       "|---|---|\n",
       "| K | -0.4227100 | 0.9062650  | \n",
       "| Al |  0.8494685 | 0.5276393  | \n",
       "\n",
       "\n"
      ],
      "text/plain": [
       "   RDA1       RDA2     \n",
       "K  -0.4227100 0.9062650\n",
       "Al  0.8494685 0.5276393"
      ]
     },
     "metadata": {},
     "output_type": "display_data"
    }
   ],
   "source": [
    "# Atribua o objeto da ordenação a cca.results\n",
    "# A partir daqui, o script seguirá um esqueleto baseado no objeto cca.results\n",
    "cca.results <- rda2\n",
    "\n",
    "# Definindo objetos-padrão para o plot\n",
    "cca.summary <- summary(cca.results)\n",
    "(imp.axis.1 <- cca.summary$cont$importance[2,1]) # explicação do eixo 1\n",
    "(imp.axis.2 <- cca.summary$cont$importance[2,2]) # explicação do eixo 2\n",
    "(rowScores <- as.data.frame(cca.results$CCA$u))  # scores das parcelas\n",
    "(colScores <- as.data.frame(cca.results$CCA$v))  # scores das espécies \n",
    "(bi.var <- as.data.frame(cca.results$CCA$biplot)) # scores das variáveis ambientais\n",
    "\n",
    "# Para salvar a figura em alta resolução.\n",
    "# Sempre adeque a resolução à altura e à largura da figura.\n",
    "# tiff(filename=\"figura.tiff\", res=600, height=600/72*600, width=600/72*600, compression= \"lzw\")"
   ]
  },
  {
   "cell_type": "code",
   "execution_count": 10,
   "metadata": {
    "collapsed": false
   },
   "outputs": [
    {
     "data": {},
     "metadata": {},
     "output_type": "display_data"
    },
    {
     "data": {
      "image/png": "[encoded data removed]",
      "text/plain": [
       "plot without title"
      ]
     },
     "metadata": {},
     "output_type": "display_data"
    }
   ],
   "source": [
    "##################################\n",
    "# PLOTANDO AS UNIDADES AMOSTRAIS #\n",
    "##################################\n",
    "\n",
    "ggrda1 <- ggplot() +\n",
    "  # geom_point(data=rowScores, aes(x=RDA1, y=RDA2),\n",
    "  #            size=4,\n",
    "  #            fill = \"white\",\n",
    "  #            shape=22) +\n",
    "  geom_vline(xintercept = 0, alpha=1, linetype = \"dashed\") +\n",
    "  geom_hline(yintercept = 0, alpha=1, linetype = \"dashed\") +\n",
    "  geom_point(data = rowScores, aes(x = RDA1, y = RDA2),\n",
    "             size = 5,\n",
    "             color = \"black\", fill=\"grey50\", shape=21) +\n",
    "  theme(panel.background = element_rect(fill = \"white\", colour = NA),\n",
    "        panel.grid.minor = element_line(colour = NULL),\n",
    "        panel.grid.major = element_line(colour = NULL),\n",
    "        plot.background = element_rect(fill = \"white\", colour = NA),\n",
    "        panel.border = element_rect(fill = NA, colour = \"black\"),\n",
    "        axis.text.x = element_text(color =\"black\", size = 12, angle = 0),\n",
    "        axis.text.y = element_text(color =\"black\", size = 12, angle = 0))\n",
    "\n",
    "# http://www.sthda.com/english/wiki/ggplot2-axis-ticks-a-guide-to-customize-tick-marks-and-labels\n",
    "# http://www.sthda.com/english/wiki/ggplot2-line-types-how-to-change-line-types-of-a-graph-in-r-software\n",
    "\n",
    "# Visualizar\n",
    "ggrda1"
   ]
  },
  {
   "cell_type": "code",
   "execution_count": 11,
   "metadata": {
    "collapsed": false
   },
   "outputs": [
    {
     "data": {},
     "metadata": {},
     "output_type": "display_data"
    },
    {
     "data": {
      "image/png": "[encoded data removed]",
      "text/plain": [
       "plot without title"
      ]
     },
     "metadata": {},
     "output_type": "display_data"
    }
   ],
   "source": [
    "########################################\n",
    "# DEFININDO EIXOS E LEGENDAS DOS EIXOS #\n",
    "########################################\n",
    "\n",
    "ggrda2 <- ggrda1 +\n",
    "  xlab(paste(\"RDA 1 \", \"(\", round(imp.axis.1*100, digits = 1), \"%)\")) +\n",
    "  theme(axis.title.x=element_text(angle = 0, size = 15)) + #, face = \"bold\"\n",
    "  ylab(paste(\"RDA 2 \", \"(\", round(imp.axis.2*100, digits = 1), \"%)\")) +\n",
    "  theme(axis.title.y=element_text(angle = 90, size = 15)) #, face = \"bold\"\n",
    "\n",
    "# Visualizar\n",
    "ggrda2"
   ]
  },
  {
   "cell_type": "code",
   "execution_count": 13,
   "metadata": {
    "collapsed": false
   },
   "outputs": [
    {
     "data": {},
     "metadata": {},
     "output_type": "display_data"
    },
    {
     "data": {
      "image/png": "[encoded data removed]",
      "text/plain": [
       "plot without title"
      ]
     },
     "metadata": {},
     "output_type": "display_data"
    }
   ],
   "source": [
    "########################\n",
    "# PLOTANDO AS ESPÉCIES #\n",
    "########################\n",
    "\n",
    "# Geralmente as espécies estão sobrepostas. Daí tem uns truques.\n",
    "# Se as espécies NÂO estiverem sobrepostas, só rode o comando abaixo.\n",
    "# Se estiverem sobrepostas, bloqueie o comando geom_text e\n",
    "#libere o geom_point e geom_text_repel.\n",
    "# Isso vai plotar os pontos das espécies e espalhar os nomes.\n",
    "\n",
    "\n",
    "ggrda3 <- ggrda2 +\n",
    "# SE AS ESPÉCIES ESTIVEREM SOBREPOSTAS, BLOQUEIE O COMANDO ABAIXO:\n",
    "    # geom_text(data=colScores, aes(RDA1, RDA2),\n",
    "  #           size=4,\n",
    "  #           label = rownames(colScores),\n",
    "  #           fontface=\"italic\")\n",
    "  \n",
    "# SE AS ESPÉCIES NÃO ESTIVEREM SOBREPOSTAS, BLOQUEIE O COMANDO ABAIXO\n",
    "  geom_point(data = colScores, aes(RDA1, RDA2),\n",
    "             size = 5, shape = 4)+\n",
    "  geom_text_repel(aes(x = colScores$RDA1, y = colScores$RDA2,\n",
    "                      label = rownames(colScores)),\n",
    "                  size = 5,\n",
    "                  fontface =\"italic\",\n",
    "                  segment.color = \"grey\",\n",
    "                  alpha = 1,\n",
    "                  segment.size = 0.1,\n",
    "                  box.padding = unit(0.3, 'lines'))#\n",
    "\n",
    "# Visualizar\n",
    "ggrda3"
   ]
  },
  {
   "cell_type": "code",
   "execution_count": 15,
   "metadata": {
    "collapsed": false
   },
   "outputs": [
    {
     "data": {},
     "metadata": {},
     "output_type": "display_data"
    },
    {
     "data": {
      "image/png": "[encoded data removed]",
      "text/plain": [
       "plot without title"
      ]
     },
     "metadata": {},
     "output_type": "display_data"
    }
   ],
   "source": [
    "####################################\n",
    "# PLOTANDO AS VARIÁVEIS AMBIENTAIS #\n",
    "####################################\n",
    "\n",
    "ggrda4 <- ggrda3 +\n",
    "  geom_segment(data = bi.var, aes(x = 0, y = 0, xend = RDA1, yend = RDA2),\n",
    "               size = 1,\n",
    "               arrow = arrow(length = unit(0.2, \"cm\"),\n",
    "                             type = \"closed\", angle = 15),\n",
    "               color = \"black\",\n",
    "               alpha = 1) +\n",
    "  geom_text(data = bi.var, aes(RDA1*1.05, RDA2*1.05,\n",
    "                               label = rownames(bi.var)),\n",
    "            color = \"black\",\n",
    "            size = 5,\n",
    "            fontface = \"bold\")\n",
    "#geom_text_repel(aes(x = colScores$PC1, y = colScores$PC2, label = rownames(colScores)))\n",
    "\n",
    "# Visualizar\n",
    "ggrda4"
   ]
  },
  {
   "cell_type": "code",
   "execution_count": 16,
   "metadata": {
    "collapsed": false
   },
   "outputs": [
    {
     "data": {},
     "metadata": {},
     "output_type": "display_data"
    },
    {
     "data": {
      "image/png": "[encoded data removed]",
      "text/plain": [
       "plot without title"
      ]
     },
     "metadata": {},
     "output_type": "display_data"
    }
   ],
   "source": [
    "ggrda5 <- ggrda4 + ggtitle(\"a) Minha RDA no ggplot2\") +\n",
    "  theme(plot.title = element_text(lineheight =.8, face = \"bold\", size = 16))\n",
    "\n",
    "ggrda5\n",
    "\n",
    "# para fechar a figura\n",
    "# dev.off() "
   ]
  }
 ],
 "metadata": {
  "kernelspec": {
   "display_name": "R",
   "language": "R",
   "name": "ir"
  },
  "language_info": {
   "codemirror_mode": "r",
   "file_extension": ".r",
   "mimetype": "text/x-r-source",
   "name": "R",
   "pygments_lexer": "r",
   "version": "3.3.1"
  }
 },
 "nbformat": 4,
 "nbformat_minor": 2
}
